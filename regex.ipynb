{
 "cells": [
  {
   "cell_type": "code",
   "execution_count": null,
   "id": "1921bd9d",
   "metadata": {},
   "outputs": [],
   "source": [
    "#Regular expressions or regexes are written in a condensed formatting language.\n",
    "#In general, you can think of regular expression as a pattern which you give to a regex processor with some source data.\n",
    "#The processor then parses that source data using the pattern and returns chunks of texts back to the data scientist or programmer for further manipulation. "
   ]
  },
  {
   "cell_type": "code",
   "execution_count": 5,
   "id": "55abf182",
   "metadata": {},
   "outputs": [],
   "source": [
    "import re"
   ]
  },
  {
   "cell_type": "code",
   "execution_count": 8,
   "id": "e766cb0d",
   "metadata": {},
   "outputs": [
    {
     "name": "stdout",
     "output_type": "stream",
     "text": [
      "wonderful\n"
     ]
    }
   ],
   "source": [
    "# lets create the example using regex\n",
    "text = \"This is a good day\"\n",
    "# now lets see if its a good day or bad day\n",
    "if re.search(\"good\", text):\n",
    "    print(\"wonderful\")\n",
    "else:\n",
    "    print(\"Not Wonderful\")"
   ]
  },
  {
   "cell_type": "code",
   "execution_count": 9,
   "id": "d3b1fff0",
   "metadata": {},
   "outputs": [
    {
     "data": {
      "text/plain": [
       "['',\n",
       " ' is hardworking student. ',\n",
       " ' gets good marks. Our student ',\n",
       " ' is Successful.']"
      ]
     },
     "execution_count": 9,
     "metadata": {},
     "output_type": "execute_result"
    }
   ],
   "source": [
    "text = \"Amy is hardworking student. Amy gets good marks. Our student Amy is Successful.\"\n",
    "re.split(\"Amy\", text)\n",
    "# this wil return how many times we have talked about amy."
   ]
  },
  {
   "cell_type": "code",
   "execution_count": 10,
   "id": "20e941a7",
   "metadata": {},
   "outputs": [
    {
     "data": {
      "text/plain": [
       "['Amy', 'Amy', 'Amy']"
      ]
     },
     "execution_count": 10,
     "metadata": {},
     "output_type": "execute_result"
    }
   ],
   "source": [
    "re.findall(\"Amy\", text) #OCCURANCE"
   ]
  },
  {
   "cell_type": "code",
   "execution_count": 11,
   "id": "1cc1c3af",
   "metadata": {},
   "outputs": [
    {
     "data": {
      "text/plain": [
       "<re.Match object; span=(0, 3), match='Amy'>"
      ]
     },
     "execution_count": 11,
     "metadata": {},
     "output_type": "execute_result"
    }
   ],
   "source": [
    "# The regex specification standard defines a markup language to describe patterns in text.\n",
    "# anchors specify start and /or end of the string\n",
    "# ^ means start\n",
    "# $ means end\n",
    "#If you put ^ before a string, it means that the texts that the regex processor retrieves must start with the string you specify. \n",
    "text = \"Amy is hardworking student. Amy gets good marks. Our student Amy is Successful.\"\n",
    "re.search(\"^Amy\", text)\n",
    "# it return the new object re.match, it returns the boolean value and identify if the pattern was matched."
   ]
  },
  {
   "cell_type": "code",
   "execution_count": null,
   "id": "d9f84369",
   "metadata": {},
   "outputs": [],
   "source": [
    "# pattern and character classes"
   ]
  },
  {
   "cell_type": "code",
   "execution_count": 17,
   "id": "07423a99",
   "metadata": {},
   "outputs": [
    {
     "data": {
      "text/plain": [
       "['A', 'A', 'A', 'A']"
      ]
     },
     "execution_count": 17,
     "metadata": {},
     "output_type": "execute_result"
    }
   ],
   "source": [
    "grades = \"ABCDACBBCCAAFF\"\n",
    "re.findall(\"A\", grades)"
   ]
  },
  {
   "cell_type": "code",
   "execution_count": 14,
   "id": "f7b6b74e",
   "metadata": {},
   "outputs": [
    {
     "data": {
      "text/plain": [
       "['A', 'B', 'A', 'B', 'B', 'A', 'A']"
      ]
     },
     "execution_count": 14,
     "metadata": {},
     "output_type": "execute_result"
    }
   ],
   "source": [
    "re.findall(\"[AB]\", grades) # to find all A and B grades"
   ]
  },
  {
   "cell_type": "code",
   "execution_count": 18,
   "id": "43f72843",
   "metadata": {},
   "outputs": [
    {
     "data": {
      "text/plain": [
       "['AB', 'AC']"
      ]
     },
     "execution_count": 18,
     "metadata": {},
     "output_type": "execute_result"
    }
   ],
   "source": [
    "re.findall(\"[A][B-C]\", grades)"
   ]
  },
  {
   "cell_type": "code",
   "execution_count": 19,
   "id": "5ee14150",
   "metadata": {},
   "outputs": [
    {
     "data": {
      "text/plain": [
       "['AB', 'AC']"
      ]
     },
     "execution_count": 19,
     "metadata": {},
     "output_type": "execute_result"
    }
   ],
   "source": [
    "re.findall(\"AB|AC\", grades)"
   ]
  },
  {
   "cell_type": "code",
   "execution_count": 20,
   "id": "51c70a43",
   "metadata": {},
   "outputs": [
    {
     "data": {
      "text/plain": [
       "['B', 'C', 'D', 'C', 'B', 'B', 'C', 'C', 'F', 'F']"
      ]
     },
     "execution_count": 20,
     "metadata": {},
     "output_type": "execute_result"
    }
   ],
   "source": [
    "re.findall(\"[^A]\", grades)"
   ]
  },
  {
   "cell_type": "code",
   "execution_count": 21,
   "id": "e70190c6",
   "metadata": {},
   "outputs": [
    {
     "data": {
      "text/plain": [
       "[]"
      ]
     },
     "execution_count": 21,
     "metadata": {},
     "output_type": "execute_result"
    }
   ],
   "source": [
    "re.findall(\"^[^A]\", grades) # it wont match any value"
   ]
  },
  {
   "cell_type": "code",
   "execution_count": 2,
   "id": "29dea999",
   "metadata": {},
   "outputs": [],
   "source": [
    "def l2_dist(a, b):\n",
    "    result = ((a - b) * (a - b)).sum()\n",
    "    result = result ** 0.5\n",
    "    return result "
   ]
  },
  {
   "cell_type": "code",
   "execution_count": 3,
   "id": "2513b1b5",
   "metadata": {},
   "outputs": [
    {
     "name": "stdout",
     "output_type": "stream",
     "text": [
      "[[0 0 1]\n",
      " [1 1 1]]\n"
     ]
    }
   ],
   "source": [
    "import numpy as np\n",
    "\n",
    "old = np.array([[1, 1, 1], [1, 1, 1]])\n",
    "new = old\n",
    "new[0, :2] = 0\n",
    "\n",
    "print(old)"
   ]
  },
  {
   "cell_type": "code",
   "execution_count": 7,
   "id": "661ec170",
   "metadata": {},
   "outputs": [
    {
     "data": {
      "text/plain": [
       "5"
      ]
     },
     "execution_count": 7,
     "metadata": {},
     "output_type": "execute_result"
    }
   ],
   "source": [
    "\n",
    "import re \n",
    "s = 'ACAABAACAAAB'\n",
    "\n",
    "\n",
    "result = re.findall('A{1,2}', s)\n",
    "len(result)\n",
    "\n"
   ]
  },
  {
   "cell_type": "code",
   "execution_count": null,
   "id": "01feb401",
   "metadata": {},
   "outputs": [],
   "source": []
  },
  {
   "cell_type": "code",
   "execution_count": null,
   "id": "80b8455f",
   "metadata": {},
   "outputs": [],
   "source": []
  },
  {
   "cell_type": "code",
   "execution_count": 23,
   "id": "48c630e1",
   "metadata": {},
   "outputs": [
    {
     "name": "stdout",
     "output_type": "stream",
     "text": [
      "['Amy', 'Mary', 'Ruth', 'Peter']\n"
     ]
    },
    {
     "data": {
      "text/plain": [
       "4"
      ]
     },
     "execution_count": 23,
     "metadata": {},
     "output_type": "execute_result"
    }
   ],
   "source": [
    "#Find a list of all of all of the names in the following string using regex.\n",
    "import re\n",
    "def names():\n",
    "    simple_string = \"\"\"Amy is 5 years old, and her sister Mary is 2 years old. \n",
    "    Ruth and Peter, their parents, have 3 kids.\"\"\"\n",
    "\n",
    "    # YOUR CODE HERE\n",
    "    pattern = r'\\b[A-Z][a-zA-Z\\']*'\n",
    "    name_list = re.findall(pattern, simple_string)\n",
    "    return name_list\n",
    "print(names())\n",
    "len(names())\n",
    "\n",
    "    #raise NotImplementedError()"
   ]
  },
  {
   "cell_type": "code",
   "execution_count": 52,
   "id": "1b5da128",
   "metadata": {},
   "outputs": [],
   "source": []
  },
  {
   "cell_type": "code",
   "execution_count": null,
   "id": "95f4aa26",
   "metadata": {},
   "outputs": [],
   "source": [
    "\n",
    "\n",
    "\n",
    "    "
   ]
  },
  {
   "cell_type": "code",
   "execution_count": null,
   "id": "09439f0f",
   "metadata": {},
   "outputs": [],
   "source": []
  }
 ],
 "metadata": {
  "kernelspec": {
   "display_name": "Python 3 (ipykernel)",
   "language": "python",
   "name": "python3"
  },
  "language_info": {
   "codemirror_mode": {
    "name": "ipython",
    "version": 3
   },
   "file_extension": ".py",
   "mimetype": "text/x-python",
   "name": "python",
   "nbconvert_exporter": "python",
   "pygments_lexer": "ipython3",
   "version": "3.11.5"
  }
 },
 "nbformat": 4,
 "nbformat_minor": 5
}
