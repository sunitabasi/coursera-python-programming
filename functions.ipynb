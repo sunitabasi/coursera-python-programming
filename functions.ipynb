{
 "cells": [
  {
   "cell_type": "code",
   "execution_count": 1,
   "id": "3b074489",
   "metadata": {},
   "outputs": [
    {
     "data": {
      "text/plain": [
       "3"
      ]
     },
     "execution_count": 1,
     "metadata": {},
     "output_type": "execute_result"
    }
   ],
   "source": [
    "x = 1\n",
    "y = 2\n",
    "x+y"
   ]
  },
  {
   "cell_type": "code",
   "execution_count": 3,
   "id": "a725bd9a",
   "metadata": {},
   "outputs": [
    {
     "data": {
      "text/plain": [
       "9"
      ]
     },
     "execution_count": 3,
     "metadata": {},
     "output_type": "execute_result"
    }
   ],
   "source": [
    "#`add_numbers` is a function that takes two numbers and adds them together.\n",
    "def add_numbers(x,y):\n",
    "    \n",
    "    return x+y\n",
    "add_numbers(4,5)"
   ]
  },
  {
   "cell_type": "code",
   "execution_count": 4,
   "id": "4b1fb2a7",
   "metadata": {},
   "outputs": [
    {
     "name": "stdout",
     "output_type": "stream",
     "text": [
      "9\n",
      "15\n"
     ]
    }
   ],
   "source": [
    "#add_numbers updated to take an optional 3rd parameter. Using print allows printing of multiple expressions\n",
    "#within a single cell.\n",
    "def add_numbers(x,y,z = None):\n",
    "    if(z == None):\n",
    "        return x+y\n",
    "    else:\n",
    "        return x+y+z\n",
    "print(add_numbers(4,5))\n",
    "print(add_numbers(4,5,6))"
   ]
  },
  {
   "cell_type": "code",
   "execution_count": 9,
   "id": "9e7f9756",
   "metadata": {},
   "outputs": [
    {
     "name": "stdout",
     "output_type": "stream",
     "text": [
      "Flag is true!\n",
      "3\n"
     ]
    }
   ],
   "source": [
    "#add_numbers updated to take an optional flag parameter.\n",
    "def add_numbers(x,y,z = None, flag = False):\n",
    "    if (flag):\n",
    "        print(\"Flag is true!\")\n",
    "    if (z == None):\n",
    "        return x+y\n",
    "    else:\n",
    "        return x+y+z\n",
    "print(add_numbers(1,2,flag= True))"
   ]
  },
  {
   "cell_type": "code",
   "execution_count": 10,
   "id": "6bb69794",
   "metadata": {},
   "outputs": [
    {
     "data": {
      "text/plain": [
       "3"
      ]
     },
     "execution_count": 10,
     "metadata": {},
     "output_type": "execute_result"
    }
   ],
   "source": [
    "#Assign function add_numbers to variable a.\n",
    "def add_numbers(x,y):\n",
    "    return x+y\n",
    "a = add_numbers\n",
    "a(1,2)"
   ]
  },
  {
   "cell_type": "code",
   "execution_count": null,
   "id": "55ec88e6",
   "metadata": {},
   "outputs": [],
   "source": []
  }
 ],
 "metadata": {
  "kernelspec": {
   "display_name": "Python 3 (ipykernel)",
   "language": "python",
   "name": "python3"
  },
  "language_info": {
   "codemirror_mode": {
    "name": "ipython",
    "version": 3
   },
   "file_extension": ".py",
   "mimetype": "text/x-python",
   "name": "python",
   "nbconvert_exporter": "python",
   "pygments_lexer": "ipython3",
   "version": "3.11.5"
  }
 },
 "nbformat": 4,
 "nbformat_minor": 5
}
